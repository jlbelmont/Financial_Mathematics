{
 "cells": [
  {
   "cell_type": "code",
   "execution_count": 1,
   "metadata": {},
   "outputs": [],
   "source": [
    "from formulas_alpha import *"
   ]
  },
  {
   "cell_type": "markdown",
   "metadata": {},
   "source": [
    "# Homework 2, Question 10"
   ]
  },
  {
   "cell_type": "code",
   "execution_count": 2,
   "metadata": {},
   "outputs": [
    {
     "name": "stdout",
     "output_type": "stream",
     "text": [
      "Call Price: 4.61\n",
      "Put Price: 5.75\n",
      "Call Delta: 0.4931\n",
      "Put Delta: -0.5069\n",
      "Call Gamma: 0.0310\n",
      "Put Gamma: 0.0310\n",
      "Call Vega: 25.6668\n",
      "Put Vega: 25.6668\n",
      "Call Theta: -0.0185\n",
      "Put Theta: -0.0084\n",
      "Call Rho: 20.1312\n",
      "Put Rho: -25.9382\n"
     ]
    }
   ],
   "source": [
    "# Parameters\n",
    "S = 91   # Current stock price\n",
    "K = 94   # Strike price\n",
    "T = 0.5  # Time to maturity (0.5 years)\n",
    "r = 0.04 # Risk-free rate (4%)\n",
    "sigma = 0.2  # Volatility (20%)\n",
    "\n",
    "# Calculate option prices and Greeks\n",
    "call_price = black_scholes(S, K, T, r, sigma, call=True)\n",
    "put_price = black_scholes(S, K, T, r, sigma, call=False)\n",
    "\n",
    "call_delta = delta(S, K, T, r, sigma, call=True)\n",
    "put_delta = delta(S, K, T, r, sigma, call=False)\n",
    "call_gamma = gamma(S, K, T, r, sigma)\n",
    "put_gamma = gamma(S, K, T, r, sigma)\n",
    "call_vega = vega(S, K, T, r, sigma)\n",
    "put_vega = vega(S, K, T, r, sigma)\n",
    "call_theta = theta(S, K, T, r, sigma, call=True)\n",
    "put_theta = theta(S, K, T, r, sigma, call=False)\n",
    "call_rho = rho(S, K, T, r, sigma, call=True)\n",
    "put_rho = rho(S, K, T, r, sigma, call=False)\n",
    "\n",
    "# Display results\n",
    "print(f\"Call Price: {call_price:.2f}\")\n",
    "print(f\"Put Price: {put_price:.2f}\")\n",
    "print(f\"Call Delta: {call_delta:.4f}\")\n",
    "print(f\"Put Delta: {put_delta:.4f}\")\n",
    "print(f\"Call Gamma: {call_gamma:.4f}\")\n",
    "print(f\"Put Gamma: {put_gamma:.4f}\")\n",
    "print(f\"Call Vega: {call_vega:.4f}\")\n",
    "print(f\"Put Vega: {put_vega:.4f}\")\n",
    "print(f\"Call Theta: {call_theta:.4f}\")\n",
    "print(f\"Put Theta: {put_theta:.4f}\")\n",
    "print(f\"Call Rho: {call_rho:.4f}\")\n",
    "print(f\"Put Rho: {put_rho:.4f}\")\n"
   ]
  }
 ],
 "metadata": {
  "kernelspec": {
   "display_name": "finmathpkg",
   "language": "python",
   "name": "python3"
  },
  "language_info": {
   "codemirror_mode": {
    "name": "ipython",
    "version": 3
   },
   "file_extension": ".py",
   "mimetype": "text/x-python",
   "name": "python",
   "nbconvert_exporter": "python",
   "pygments_lexer": "ipython3",
   "version": "3.9.19"
  }
 },
 "nbformat": 4,
 "nbformat_minor": 2
}
